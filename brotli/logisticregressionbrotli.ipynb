{
 "cells": [
  {
   "cell_type": "code",
   "execution_count": 61,
   "metadata": {},
   "outputs": [
    {
     "name": "stderr",
     "output_type": "stream",
     "text": [
      "[nltk_data] Downloading package wordnet to\n",
      "[nltk_data]     C:\\Users\\moham\\AppData\\Roaming\\nltk_data...\n",
      "[nltk_data]   Package wordnet is already up-to-date!\n",
      "[nltk_data] Downloading package stopwords to\n",
      "[nltk_data]     C:\\Users\\moham\\AppData\\Roaming\\nltk_data...\n",
      "[nltk_data]   Package stopwords is already up-to-date!\n"
     ]
    },
    {
     "data": {
      "text/plain": [
       "True"
      ]
     },
     "execution_count": 61,
     "metadata": {},
     "output_type": "execute_result"
    }
   ],
   "source": [
    "import pandas as pd\n",
    "import numpy as np\n",
    "from sklearn.feature_extraction.text import TfidfVectorizer\n",
    "from sklearn.linear_model import LogisticRegression\n",
    "from sklearn.model_selection import train_test_split\n",
    "from sklearn.metrics import accuracy_score, classification_report\n",
    "import brotli\n",
    "import networkx as nx\n",
    "from scipy.sparse import csr_matrix, hstack\n",
    "from nltk.stem import WordNetLemmatizer\n",
    "from nltk.corpus import wordnet as wn, stopwords\n",
    "import string\n",
    "import nltk\n",
    "from itertools import combinations\n",
    "nltk.download('wordnet')\n",
    "nltk.download('stopwords')"
   ]
  },
  {
   "cell_type": "code",
   "execution_count": 62,
   "metadata": {},
   "outputs": [],
   "source": [
    "def preprocess_text(text):\n",
    "    text = text.lower()\n",
    "    text = text.translate(str.maketrans('', '', string.punctuation))\n",
    "    lemmatizer = WordNetLemmatizer()\n",
    "    stop_words = set(stopwords.words('english'))\n",
    "    words = [lemmatizer.lemmatize(word) for word in text.split() if word not in stop_words and word.isalnum()]\n",
    "    return ' '.join(words)\n",
    "\n",
    "df = pd.read_csv('imdb.csv')\n",
    "df['review'] = df['review'].apply(preprocess_text)"
   ]
  },
  {
   "cell_type": "code",
   "execution_count": 63,
   "metadata": {},
   "outputs": [],
   "source": [
    "vectorizer = TfidfVectorizer(stop_words='english', max_features=1000)\n",
    "X_tfidf = vectorizer.fit_transform(df['review'])\n",
    "features = vectorizer.get_feature_names_out()"
   ]
  },
  {
   "cell_type": "code",
   "execution_count": 64,
   "metadata": {},
   "outputs": [],
   "source": [
    "def enrich_features_with_wordnet(features):\n",
    "    enriched_features = set(features)\n",
    "    for word in features:\n",
    "        for syn in wn.synsets(word):\n",
    "            for lemma in syn.lemmas():\n",
    "                enriched_features.add(lemma.name().replace('_', ' ').lower())\n",
    "            for hyper in syn.hypernyms():\n",
    "                enriched_features.update(lem.name().replace('_', ' ').lower() for lem in hyper.lemmas())\n",
    "            for hypo in syn.hyponyms():\n",
    "                enriched_features.update(lem.name().replace('_', ' ').lower() for lem in hypo.lemmas())\n",
    "    return list(enriched_features)"
   ]
  },
  {
   "cell_type": "code",
   "execution_count": 65,
   "metadata": {},
   "outputs": [],
   "source": [
    "enriched_features = enrich_features_with_wordnet(features)\n",
    "enriched_vectorizer = TfidfVectorizer(vocabulary=enriched_features)\n",
    "X_enriched = enriched_vectorizer.fit_transform(df['review'])"
   ]
  },
  {
   "cell_type": "code",
   "execution_count": 66,
   "metadata": {},
   "outputs": [],
   "source": [
    "def compress(text):\n",
    "    return brotli.compress(text.encode('utf-8'))"
   ]
  },
  {
   "cell_type": "code",
   "execution_count": 67,
   "metadata": {},
   "outputs": [],
   "source": [
    "def calculate_ncd(text1, text2):\n",
    "    c_x1 = compress(text1)\n",
    "    c_x2 = compress(text2)\n",
    "    c_x1x2 = compress(text1 + text2)\n",
    "    ncd = (len(c_x1x2) - min(len(c_x1), len(c_x2))) / max(len(c_x1), len(c_x2))\n",
    "    return ncd"
   ]
  },
  {
   "cell_type": "code",
   "execution_count": 68,
   "metadata": {},
   "outputs": [],
   "source": [
    "def build_word_network(features):\n",
    "    G = nx.Graph()\n",
    "    for word1, word2 in combinations(features, 2):\n",
    "        ncd = calculate_ncd(word1, word2)\n",
    "        G.add_edge(word1, word2, weight=ncd)\n",
    "    return G\n",
    "\n",
    "G = build_word_network(features[:100]) \n",
    "degree_centrality = nx.degree_centrality(G)\n",
    "betweenness_centrality = nx.betweenness_centrality(G)\n",
    "closeness_centrality = nx.closeness_centrality(G)"
   ]
  },
  {
   "cell_type": "code",
   "execution_count": 69,
   "metadata": {},
   "outputs": [],
   "source": [
    "def calculate_centrality_features(document_features, centrality_dict):\n",
    "    centrality_features = []\n",
    "    for doc_idx in range(document_features.shape[0]):\n",
    "        doc_feature_indices = document_features[doc_idx].nonzero()[1]\n",
    "        centrality_scores = [centrality_dict.get(features[index], 0) for index in doc_feature_indices if features[index] in centrality_dict]\n",
    "        if centrality_scores:\n",
    "            centrality_features.append(np.mean(centrality_scores))\n",
    "        else:\n",
    "            centrality_features.append(0)\n",
    "    return np.array(centrality_features).reshape(-1, 1)"
   ]
  },
  {
   "cell_type": "code",
   "execution_count": 70,
   "metadata": {},
   "outputs": [],
   "source": [
    "degree_features = calculate_centrality_features(X_tfidf, degree_centrality)\n",
    "betweenness_features = calculate_centrality_features(X_tfidf, betweenness_centrality)\n",
    "closeness_features = calculate_centrality_features(X_tfidf, closeness_centrality)"
   ]
  },
  {
   "cell_type": "code",
   "execution_count": 71,
   "metadata": {},
   "outputs": [],
   "source": [
    "degree_csr = csr_matrix(degree_features)\n",
    "betweenness_csr = csr_matrix(betweenness_features)\n",
    "closeness_csr = csr_matrix(closeness_features)"
   ]
  },
  {
   "cell_type": "code",
   "execution_count": 72,
   "metadata": {},
   "outputs": [],
   "source": [
    "X_combined = hstack([X_tfidf, X_enriched, degree_csr, betweenness_csr, closeness_csr])\n",
    "X_train, X_test, y_train, y_test = train_test_split(X_combined, df['sentiment'], test_size=0.2, random_state=42)"
   ]
  },
  {
   "cell_type": "code",
   "execution_count": 73,
   "metadata": {},
   "outputs": [],
   "source": [
    "model = LogisticRegression(max_iter=1000)\n",
    "model.fit(X_train, y_train)\n",
    "y_pred = model.predict(X_test)"
   ]
  },
  {
   "cell_type": "code",
   "execution_count": 74,
   "metadata": {},
   "outputs": [
    {
     "name": "stdout",
     "output_type": "stream",
     "text": [
      "Accuracy: 0.8757\n",
      "              precision    recall  f1-score   support\n",
      "\n",
      "    negative       0.89      0.86      0.87      4961\n",
      "    positive       0.87      0.89      0.88      5039\n",
      "\n",
      "    accuracy                           0.88     10000\n",
      "   macro avg       0.88      0.88      0.88     10000\n",
      "weighted avg       0.88      0.88      0.88     10000\n",
      "\n"
     ]
    }
   ],
   "source": [
    "print(f'Accuracy: {accuracy_score(y_test, y_pred):.4f}')\n",
    "print(classification_report(y_test, y_pred))"
   ]
  }
 ],
 "metadata": {
  "kernelspec": {
   "display_name": "Python 3",
   "language": "python",
   "name": "python3"
  },
  "language_info": {
   "codemirror_mode": {
    "name": "ipython",
    "version": 3
   },
   "file_extension": ".py",
   "mimetype": "text/x-python",
   "name": "python",
   "nbconvert_exporter": "python",
   "pygments_lexer": "ipython3",
   "version": "3.12.1"
  }
 },
 "nbformat": 4,
 "nbformat_minor": 2
}
